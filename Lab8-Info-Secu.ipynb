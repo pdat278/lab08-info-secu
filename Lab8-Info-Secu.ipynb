{
 "cells": [
  {
   "cell_type": "code",
   "execution_count": 6,
   "id": "cbf5bbf6",
   "metadata": {},
   "outputs": [],
   "source": [
    "import string"
   ]
  },
  {
   "cell_type": "code",
   "execution_count": 7,
   "id": "df6c00b0",
   "metadata": {},
   "outputs": [],
   "source": [
    "def ecncrypt(t1, t2):\n",
    "    t1 = [ord(i) for i in t1]\n",
    "    t2 = [ord(i) for i in t2]\n",
    "    return \" \".join(chr(a^b) for a,b in zip(t1, t2))"
   ]
  },
  {
   "cell_type": "code",
   "execution_count": 8,
   "id": "f2f9fc66",
   "metadata": {},
   "outputs": [],
   "source": [
    "P1 = 'НаВашисходящийот1204'\n",
    "P2 = 'ВСеверныйфилиалБанка'\n",
    "\n",
    "K = '05 0C 17 7F 0E 4E 37 D2 94 10 09 2E 22 57 FF C8 OB B2 70 54'"
   ]
  },
  {
   "cell_type": "code",
   "execution_count": 9,
   "id": "b0b9590c",
   "metadata": {},
   "outputs": [
    {
     "name": "stdout",
     "output_type": "stream",
     "text": [
      "Зашифрованный текст С1: Э Ѕ в Ѐ Ћ И Ѱ Ѳ О Ѓ Љ ѩ Ј Ѽ О Ѷ t \u0012 \u0003 \u0003\n",
      "Зашифрованный текст С2: Т Д Е Ђ Ѷ Ѡ Ќ Ѽ Й ѳ Ѿ Л Ј ѵ Л Х ѵ Н Љ Ї\n"
     ]
    }
   ],
   "source": [
    "C1 = ecncrypt(P1, K)\n",
    "C2 = ecncrypt(P2, K)\n",
    "\n",
    "print(\"Зашифрованный текст С1:\", C1)\n",
    "print(\"Зашифрованный текст С2:\", C2)"
   ]
  },
  {
   "cell_type": "code",
   "execution_count": 11,
   "id": "8897194d",
   "metadata": {},
   "outputs": [
    {
     "name": "stdout",
     "output_type": "stream",
     "text": [
      "Расшифрованный текст P1: В А В А љ И с ѥ Й Д я ѩ к Й о Ѣ L \u0012 0 \u0014\n",
      "Расшифрованный текст P2: Н Ё е В Ф Ѡ н ѫ О Ѥ и Л к А л б э Н к А\n"
     ]
    }
   ],
   "source": [
    "decr = ecncrypt(C1, C2)\n",
    "\n",
    "print(\"Расшифрованный текст P1:\", ecncrypt(decr,P1))\n",
    "print(\"Расшифрованный текст P2:\", ecncrypt(decr,P2))"
   ]
  },
  {
   "cell_type": "code",
   "execution_count": null,
   "id": "c258cf49",
   "metadata": {},
   "outputs": [],
   "source": []
  }
 ],
 "metadata": {
  "kernelspec": {
   "display_name": "Python 3 (ipykernel)",
   "language": "python",
   "name": "python3"
  },
  "language_info": {
   "codemirror_mode": {
    "name": "ipython",
    "version": 3
   },
   "file_extension": ".py",
   "mimetype": "text/x-python",
   "name": "python",
   "nbconvert_exporter": "python",
   "pygments_lexer": "ipython3",
   "version": "3.9.17"
  }
 },
 "nbformat": 4,
 "nbformat_minor": 5
}
